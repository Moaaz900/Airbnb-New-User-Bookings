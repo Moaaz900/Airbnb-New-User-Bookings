{
 "cells": [
  {
   "cell_type": "markdown",
   "metadata": {},
   "source": [
    "# Airbnb New User Bookings Project"
   ]
  },
  {
   "cell_type": "markdown",
   "metadata": {},
   "source": [
    "==============================================================="
   ]
  },
  {
   "cell_type": "markdown",
   "metadata": {},
   "source": [
    "Prepared By:\n",
    "\n",
    "    1. Ahmed El-Sayed Hamdan - 191035\n",
    "    2. Mohamed Ahmed Elkhateeb - 191017\n",
    "    3. Moaaz Youssef Ghonaimy - 191036\n",
    "    4. Maryam Akram Elghalban - 191084"
   ]
  },
  {
   "cell_type": "markdown",
   "metadata": {},
   "source": [
    "==============================================================="
   ]
  },
  {
   "cell_type": "markdown",
   "metadata": {},
   "source": [
    "<pre>\n",
    "Documenation for the work done:\n",
    "------------------------------------------------\n",
    "   <b> 1. Reading the dataset </b>from users and session csvs\n",
    "   \n",
    "    <b>2. Preprocessing: </b>\n",
    "        - Get Sum of sessions per user to be later as a feature\n",
    "        - Make a join between seesion and users dataframes\n",
    "        - Cast age to be integer column\n",
    "        - remove the records for other destination\n",
    "        \n",
    "    <b>3.Feature Engineering</b>\n",
    "        - Check categorical columns and numerical columns\n",
    "        - fill null with the most frequent vlaue in all columns except age and gender\n",
    "        - fill gender and age with most frequent value for each distination country so \n",
    "          we make that by grouping\n",
    "        - fill age values with ore than 110 or less than 18 to be most frequent value\n",
    "        - generate 3 features day, month and year for created acount datetime column\n",
    "        - generate 3 features day, month and year for first action datetime\n",
    "        \n",
    "    <b>4. Classfication</b>\n",
    "       -  Desciosn Tree Classfier\n",
    "       -  Random forest Classifer \n",
    "            - Change the hyper parameters then test\n",
    "            - Chceck the features importance and adjust the used features for the model\n",
    "       - XSBOOST Classfier as an extra classfication to make get the best model for the data\n",
    "         \n",
    "    <b>5. Testing using Test dataset </b>\n",
    "       - Apply the same feature engineering for the testing dataset\n",
    "       - Fit the model \n",
    "       - get the predicitons with <b>probalities</b> which facilitate getting the 5 possible \n",
    "         countries by matching the probalitiy value with the lables of countries and ids of\n",
    "         users\n",
    "       - sort the probalities and map them to the countries\n",
    "       - make a for loop to prepare the submission csv file\n",
    "       \n",
    "    <b>6. Submit to Kaggle then get the score </b>\n",
    "       </pre>"
   ]
  },
  {
   "cell_type": "markdown",
   "metadata": {},
   "source": [
    "==============================================================="
   ]
  },
  {
   "cell_type": "markdown",
   "metadata": {},
   "source": [
    "### Import Needed Packages"
   ]
  },
  {
   "cell_type": "code",
   "execution_count": 1,
   "metadata": {},
   "outputs": [],
   "source": [
    "from pyspark.sql import SparkSession\n",
    "from pyspark.sql.types import *\n",
    "import pandas as pd\n",
    "import numpy as np\n",
    "import datetime\n",
    "import os"
   ]
  },
  {
   "cell_type": "code",
   "execution_count": 2,
   "metadata": {},
   "outputs": [],
   "source": [
    "from pyspark.sql.functions import col\n",
    "from pyspark.sql.functions import split\n",
    "from pyspark.sql.functions import udf\n",
    "from pyspark.sql.functions import broadcast\n",
    "from pyspark.sql.functions import desc\n",
    "from pyspark.sql.functions import row_number\n",
    "\n",
    "from pyspark.sql.window import Window"
   ]
  },
  {
   "cell_type": "code",
   "execution_count": 3,
   "metadata": {},
   "outputs": [],
   "source": [
    "from pyspark.ml.feature import StringIndexer\n",
    "from pyspark.ml.feature import OneHotEncoder\n",
    "\n",
    "from pyspark.ml import Pipeline\n",
    "from pyspark.ml.feature import VectorAssembler\n",
    "\n",
    "from pyspark.ml.classification import DecisionTreeClassifier\n",
    "from pyspark.ml.classification import RandomForestClassifier\n",
    "\n",
    "from pyspark.ml.evaluation import MulticlassClassificationEvaluator"
   ]
  },
  {
   "cell_type": "markdown",
   "metadata": {},
   "source": [
    "#### Adding argument to run the jars of XGBOOST classifier which it will be used in classfication later\n",
    "##### this classfier is not built in in the spark to let it work we need 2 jars file (included in the zip file) and sparkxgb.zip file which also included in the zip file"
   ]
  },
  {
   "cell_type": "code",
   "execution_count": 4,
   "metadata": {},
   "outputs": [],
   "source": [
    "os.environ['PYSPARK_PYTHON'] = 'python3'\n",
    "os.environ['PYSPARK_SUBMIT_ARGS'] = '--jars xgboost4j-spark-0.72.jar,xgboost4j-0.72.jar pyspark-shell'"
   ]
  },
  {
   "cell_type": "markdown",
   "metadata": {},
   "source": [
    "#### Initialize Spark Session"
   ]
  },
  {
   "cell_type": "code",
   "execution_count": 5,
   "metadata": {},
   "outputs": [],
   "source": [
    "spark = SparkSession \\\n",
    "    .builder \\\n",
    "    .appName(\"Airbnb New User Bookings\") \\\n",
    "    .getOrCreate()"
   ]
  },
  {
   "cell_type": "code",
   "execution_count": 6,
   "metadata": {},
   "outputs": [],
   "source": [
    "spark.sparkContext.addPyFile(\"sparkxgb.zip\")"
   ]
  },
  {
   "cell_type": "markdown",
   "metadata": {},
   "source": [
    "### Reading the Dataset"
   ]
  },
  {
   "cell_type": "markdown",
   "metadata": {},
   "source": [
    "#### Read Session.csv"
   ]
  },
  {
   "cell_type": "code",
   "execution_count": 7,
   "metadata": {},
   "outputs": [],
   "source": [
    "sessions = spark.read\\\n",
    "               .format(\"csv\")\\\n",
    "               .option(\"header\", \"true\")\\\n",
    "               .option(\"inferSchema\",\"true\")\\\n",
    "               .load(\"input/sessions.csv\")"
   ]
  },
  {
   "cell_type": "code",
   "execution_count": 8,
   "metadata": {},
   "outputs": [
    {
     "name": "stdout",
     "output_type": "stream",
     "text": [
      "root\n",
      " |-- user_id: string (nullable = true)\n",
      " |-- action: string (nullable = true)\n",
      " |-- action_type: string (nullable = true)\n",
      " |-- action_detail: string (nullable = true)\n",
      " |-- device_type: string (nullable = true)\n",
      " |-- secs_elapsed: double (nullable = true)\n",
      "\n"
     ]
    }
   ],
   "source": [
    "sessions.printSchema()"
   ]
  },
  {
   "cell_type": "code",
   "execution_count": 9,
   "metadata": {},
   "outputs": [
    {
     "name": "stdout",
     "output_type": "stream",
     "text": [
      "+----------+--------------+-----------+-------------------+---------------+------------+\n",
      "|   user_id|        action|action_type|      action_detail|    device_type|secs_elapsed|\n",
      "+----------+--------------+-----------+-------------------+---------------+------------+\n",
      "|d1mm9tcy42|        lookup|       null|               null|Windows Desktop|       319.0|\n",
      "|d1mm9tcy42|search_results|      click|view_search_results|Windows Desktop|     67753.0|\n",
      "|d1mm9tcy42|        lookup|       null|               null|Windows Desktop|       301.0|\n",
      "|d1mm9tcy42|search_results|      click|view_search_results|Windows Desktop|     22141.0|\n",
      "|d1mm9tcy42|        lookup|       null|               null|Windows Desktop|       435.0|\n",
      "+----------+--------------+-----------+-------------------+---------------+------------+\n",
      "only showing top 5 rows\n",
      "\n"
     ]
    }
   ],
   "source": [
    "sessions.show(5)"
   ]
  },
  {
   "cell_type": "markdown",
   "metadata": {},
   "source": [
    "#### Read train_users_2.csv"
   ]
  },
  {
   "cell_type": "code",
   "execution_count": 10,
   "metadata": {},
   "outputs": [],
   "source": [
    "users = spark.read\\\n",
    "               .format(\"csv\")\\\n",
    "               .option(\"header\", \"true\")\\\n",
    "               .load(\"input/train_users_2.csv\")"
   ]
  },
  {
   "cell_type": "code",
   "execution_count": 11,
   "metadata": {},
   "outputs": [
    {
     "name": "stdout",
     "output_type": "stream",
     "text": [
      "root\n",
      " |-- id: string (nullable = true)\n",
      " |-- date_account_created: string (nullable = true)\n",
      " |-- timestamp_first_active: string (nullable = true)\n",
      " |-- date_first_booking: string (nullable = true)\n",
      " |-- gender: string (nullable = true)\n",
      " |-- age: string (nullable = true)\n",
      " |-- signup_method: string (nullable = true)\n",
      " |-- signup_flow: string (nullable = true)\n",
      " |-- language: string (nullable = true)\n",
      " |-- affiliate_channel: string (nullable = true)\n",
      " |-- affiliate_provider: string (nullable = true)\n",
      " |-- first_affiliate_tracked: string (nullable = true)\n",
      " |-- signup_app: string (nullable = true)\n",
      " |-- first_device_type: string (nullable = true)\n",
      " |-- first_browser: string (nullable = true)\n",
      " |-- country_destination: string (nullable = true)\n",
      "\n"
     ]
    }
   ],
   "source": [
    "users.printSchema()"
   ]
  },
  {
   "cell_type": "code",
   "execution_count": 12,
   "metadata": {},
   "outputs": [
    {
     "data": {
      "text/html": [
       "<div>\n",
       "<style scoped>\n",
       "    .dataframe tbody tr th:only-of-type {\n",
       "        vertical-align: middle;\n",
       "    }\n",
       "\n",
       "    .dataframe tbody tr th {\n",
       "        vertical-align: top;\n",
       "    }\n",
       "\n",
       "    .dataframe thead th {\n",
       "        text-align: right;\n",
       "    }\n",
       "</style>\n",
       "<table border=\"1\" class=\"dataframe\">\n",
       "  <thead>\n",
       "    <tr style=\"text-align: right;\">\n",
       "      <th></th>\n",
       "      <th>id</th>\n",
       "      <th>date_account_created</th>\n",
       "      <th>timestamp_first_active</th>\n",
       "      <th>date_first_booking</th>\n",
       "      <th>gender</th>\n",
       "      <th>age</th>\n",
       "      <th>signup_method</th>\n",
       "      <th>signup_flow</th>\n",
       "      <th>language</th>\n",
       "      <th>affiliate_channel</th>\n",
       "      <th>affiliate_provider</th>\n",
       "      <th>first_affiliate_tracked</th>\n",
       "      <th>signup_app</th>\n",
       "      <th>first_device_type</th>\n",
       "      <th>first_browser</th>\n",
       "      <th>country_destination</th>\n",
       "    </tr>\n",
       "  </thead>\n",
       "  <tbody>\n",
       "    <tr>\n",
       "      <th>0</th>\n",
       "      <td>gxn3p5htnn</td>\n",
       "      <td>2010-06-28</td>\n",
       "      <td>20090319043255</td>\n",
       "      <td>None</td>\n",
       "      <td>-unknown-</td>\n",
       "      <td>None</td>\n",
       "      <td>facebook</td>\n",
       "      <td>0</td>\n",
       "      <td>en</td>\n",
       "      <td>direct</td>\n",
       "      <td>direct</td>\n",
       "      <td>untracked</td>\n",
       "      <td>Web</td>\n",
       "      <td>Mac Desktop</td>\n",
       "      <td>Chrome</td>\n",
       "      <td>NDF</td>\n",
       "    </tr>\n",
       "    <tr>\n",
       "      <th>1</th>\n",
       "      <td>820tgsjxq7</td>\n",
       "      <td>2011-05-25</td>\n",
       "      <td>20090523174809</td>\n",
       "      <td>None</td>\n",
       "      <td>MALE</td>\n",
       "      <td>38.0</td>\n",
       "      <td>facebook</td>\n",
       "      <td>0</td>\n",
       "      <td>en</td>\n",
       "      <td>seo</td>\n",
       "      <td>google</td>\n",
       "      <td>untracked</td>\n",
       "      <td>Web</td>\n",
       "      <td>Mac Desktop</td>\n",
       "      <td>Chrome</td>\n",
       "      <td>NDF</td>\n",
       "    </tr>\n",
       "    <tr>\n",
       "      <th>2</th>\n",
       "      <td>4ft3gnwmtx</td>\n",
       "      <td>2010-09-28</td>\n",
       "      <td>20090609231247</td>\n",
       "      <td>2010-08-02</td>\n",
       "      <td>FEMALE</td>\n",
       "      <td>56.0</td>\n",
       "      <td>basic</td>\n",
       "      <td>3</td>\n",
       "      <td>en</td>\n",
       "      <td>direct</td>\n",
       "      <td>direct</td>\n",
       "      <td>untracked</td>\n",
       "      <td>Web</td>\n",
       "      <td>Windows Desktop</td>\n",
       "      <td>IE</td>\n",
       "      <td>US</td>\n",
       "    </tr>\n",
       "    <tr>\n",
       "      <th>3</th>\n",
       "      <td>bjjt8pjhuk</td>\n",
       "      <td>2011-12-05</td>\n",
       "      <td>20091031060129</td>\n",
       "      <td>2012-09-08</td>\n",
       "      <td>FEMALE</td>\n",
       "      <td>42.0</td>\n",
       "      <td>facebook</td>\n",
       "      <td>0</td>\n",
       "      <td>en</td>\n",
       "      <td>direct</td>\n",
       "      <td>direct</td>\n",
       "      <td>untracked</td>\n",
       "      <td>Web</td>\n",
       "      <td>Mac Desktop</td>\n",
       "      <td>Firefox</td>\n",
       "      <td>other</td>\n",
       "    </tr>\n",
       "    <tr>\n",
       "      <th>4</th>\n",
       "      <td>87mebub9p4</td>\n",
       "      <td>2010-09-14</td>\n",
       "      <td>20091208061105</td>\n",
       "      <td>2010-02-18</td>\n",
       "      <td>-unknown-</td>\n",
       "      <td>41.0</td>\n",
       "      <td>basic</td>\n",
       "      <td>0</td>\n",
       "      <td>en</td>\n",
       "      <td>direct</td>\n",
       "      <td>direct</td>\n",
       "      <td>untracked</td>\n",
       "      <td>Web</td>\n",
       "      <td>Mac Desktop</td>\n",
       "      <td>Chrome</td>\n",
       "      <td>US</td>\n",
       "    </tr>\n",
       "  </tbody>\n",
       "</table>\n",
       "</div>"
      ],
      "text/plain": [
       "           id date_account_created timestamp_first_active date_first_booking  \\\n",
       "0  gxn3p5htnn           2010-06-28         20090319043255               None   \n",
       "1  820tgsjxq7           2011-05-25         20090523174809               None   \n",
       "2  4ft3gnwmtx           2010-09-28         20090609231247         2010-08-02   \n",
       "3  bjjt8pjhuk           2011-12-05         20091031060129         2012-09-08   \n",
       "4  87mebub9p4           2010-09-14         20091208061105         2010-02-18   \n",
       "\n",
       "      gender   age signup_method signup_flow language affiliate_channel  \\\n",
       "0  -unknown-  None      facebook           0       en            direct   \n",
       "1       MALE  38.0      facebook           0       en               seo   \n",
       "2     FEMALE  56.0         basic           3       en            direct   \n",
       "3     FEMALE  42.0      facebook           0       en            direct   \n",
       "4  -unknown-  41.0         basic           0       en            direct   \n",
       "\n",
       "  affiliate_provider first_affiliate_tracked signup_app first_device_type  \\\n",
       "0             direct               untracked        Web       Mac Desktop   \n",
       "1             google               untracked        Web       Mac Desktop   \n",
       "2             direct               untracked        Web   Windows Desktop   \n",
       "3             direct               untracked        Web       Mac Desktop   \n",
       "4             direct               untracked        Web       Mac Desktop   \n",
       "\n",
       "  first_browser country_destination  \n",
       "0        Chrome                 NDF  \n",
       "1        Chrome                 NDF  \n",
       "2            IE                  US  \n",
       "3       Firefox               other  \n",
       "4        Chrome                  US  "
      ]
     },
     "execution_count": 12,
     "metadata": {},
     "output_type": "execute_result"
    }
   ],
   "source": [
    "users.toPandas().head()"
   ]
  },
  {
   "cell_type": "markdown",
   "metadata": {},
   "source": [
    "### Feature Engineering"
   ]
  },
  {
   "cell_type": "markdown",
   "metadata": {},
   "source": [
    "#### cast the age feature to be integer"
   ]
  },
  {
   "cell_type": "code",
   "execution_count": 13,
   "metadata": {},
   "outputs": [],
   "source": [
    "users = users.withColumn(\"age\", users[\"age\"].cast(IntegerType()))"
   ]
  },
  {
   "cell_type": "markdown",
   "metadata": {},
   "source": [
    "#### Sum the total session time per user to be used as a feature"
   ]
  },
  {
   "cell_type": "code",
   "execution_count": 14,
   "metadata": {},
   "outputs": [],
   "source": [
    "sessions = sessions.groupBy('user_id').agg({\"secs_elapsed\":\"sum\"})\n",
    "sessions = sessions.withColumnRenamed(\"sum(secs_elapsed)\", \"secs_elapsed\")"
   ]
  },
  {
   "cell_type": "markdown",
   "metadata": {},
   "source": [
    "#### Make a join between session dataframe and user to add the the feature of total sessions for the user"
   ]
  },
  {
   "cell_type": "code",
   "execution_count": 15,
   "metadata": {},
   "outputs": [
    {
     "name": "stdout",
     "output_type": "stream",
     "text": [
      "root\n",
      " |-- id: string (nullable = true)\n",
      " |-- date_account_created: string (nullable = true)\n",
      " |-- timestamp_first_active: string (nullable = true)\n",
      " |-- date_first_booking: string (nullable = true)\n",
      " |-- gender: string (nullable = true)\n",
      " |-- age: integer (nullable = true)\n",
      " |-- signup_method: string (nullable = true)\n",
      " |-- signup_flow: string (nullable = true)\n",
      " |-- language: string (nullable = true)\n",
      " |-- affiliate_channel: string (nullable = true)\n",
      " |-- affiliate_provider: string (nullable = true)\n",
      " |-- first_affiliate_tracked: string (nullable = true)\n",
      " |-- signup_app: string (nullable = true)\n",
      " |-- first_device_type: string (nullable = true)\n",
      " |-- first_browser: string (nullable = true)\n",
      " |-- country_destination: string (nullable = true)\n",
      " |-- user_id: string (nullable = true)\n",
      " |-- secs_elapsed: double (nullable = true)\n",
      "\n"
     ]
    }
   ],
   "source": [
    "users = users.join(sessions, users.id == sessions.user_id)\n",
    "users.printSchema()"
   ]
  },
  {
   "cell_type": "markdown",
   "metadata": {},
   "source": [
    "#### Ignore the data of country destination to other because it's very small segment"
   ]
  },
  {
   "cell_type": "code",
   "execution_count": 16,
   "metadata": {},
   "outputs": [
    {
     "name": "stdout",
     "output_type": "stream",
     "text": [
      "0.049515681094628464\n"
     ]
    }
   ],
   "source": [
    "print(users.filter(users['country_destination'] == 'other').count()/users.count())\n",
    "users = users.filter(users['country_destination'] != 'other')"
   ]
  },
  {
   "cell_type": "markdown",
   "metadata": {},
   "source": [
    "#### Generate 3 features from date_account_created (year, month, day)\n"
   ]
  },
  {
   "cell_type": "code",
   "execution_count": 17,
   "metadata": {},
   "outputs": [],
   "source": [
    "users = users.withColumn('dac_year', split(users.date_account_created, '-')[0])\n",
    "users = users.withColumn('dac_month', split(users.date_account_created, '-')[1])\n",
    "users = users.withColumn('dac_day', split(users.date_account_created, '-')[2])\n",
    "users = users.drop('date_account_created')\n",
    "\n",
    "# Cast the features to be Integer\n",
    "users = users.withColumn(\"dac_year\", users[\"dac_year\"].cast(IntegerType()))\n",
    "users = users.withColumn(\"dac_month\", users[\"dac_month\"].cast(IntegerType()))\n",
    "users = users.withColumn(\"dac_day\", users[\"dac_day\"].cast(IntegerType()))"
   ]
  },
  {
   "cell_type": "markdown",
   "metadata": {},
   "source": [
    "#### Generate 3 features from timestamp_first_active (year, month, day)"
   ]
  },
  {
   "cell_type": "code",
   "execution_count": 18,
   "metadata": {},
   "outputs": [],
   "source": [
    "def get_year_part(date_time_str):\n",
    "    date_time_obj = datetime.datetime.strptime(date_time_str, '%Y%m%d%H%M%S')\n",
    "    return date_time_obj.year\n",
    "    \n",
    "def get_month_part(date_time_str):\n",
    "    date_time_obj = datetime.datetime.strptime(date_time_str, '%Y%m%d%H%M%S')\n",
    "    return date_time_obj.month\n",
    "    \n",
    "def get_day_part(date_time_str):\n",
    "    date_time_obj = datetime.datetime.strptime(date_time_str, '%Y%m%d%H%M%S')\n",
    "    return date_time_obj.day\n",
    "\n",
    "get_year_part_udf = udf(get_year_part, IntegerType())\n",
    "get_month_part_udf = udf(get_month_part, IntegerType())\n",
    "get_day_part_udf = udf(get_day_part, IntegerType())\n",
    "\n",
    "users = users.withColumn('tfa_year', get_year_part_udf(users.timestamp_first_active))\n",
    "users = users.withColumn('tfa_month', get_month_part_udf(users.timestamp_first_active))\n",
    "users = users.withColumn('tfa_day', get_day_part_udf(users.timestamp_first_active))\n",
    "users = users.drop('timestamp_first_active')"
   ]
  },
  {
   "cell_type": "markdown",
   "metadata": {},
   "source": [
    "#### drop unneeded columns"
   ]
  },
  {
   "cell_type": "code",
   "execution_count": 19,
   "metadata": {},
   "outputs": [
    {
     "name": "stdout",
     "output_type": "stream",
     "text": [
      "root\n",
      " |-- gender: string (nullable = true)\n",
      " |-- age: integer (nullable = true)\n",
      " |-- signup_method: string (nullable = true)\n",
      " |-- signup_flow: string (nullable = true)\n",
      " |-- language: string (nullable = true)\n",
      " |-- affiliate_channel: string (nullable = true)\n",
      " |-- affiliate_provider: string (nullable = true)\n",
      " |-- first_affiliate_tracked: string (nullable = true)\n",
      " |-- signup_app: string (nullable = true)\n",
      " |-- first_device_type: string (nullable = true)\n",
      " |-- first_browser: string (nullable = true)\n",
      " |-- country_destination: string (nullable = true)\n",
      " |-- secs_elapsed: double (nullable = true)\n",
      " |-- dac_year: integer (nullable = true)\n",
      " |-- dac_month: integer (nullable = true)\n",
      " |-- dac_day: integer (nullable = true)\n",
      " |-- tfa_year: integer (nullable = true)\n",
      " |-- tfa_month: integer (nullable = true)\n",
      " |-- tfa_day: integer (nullable = true)\n",
      "\n"
     ]
    }
   ],
   "source": [
    "users = users.drop('id','user_id','action','action_type','action_detail','device_type', 'date_first_booking')\n",
    "users.printSchema()"
   ]
  },
  {
   "cell_type": "markdown",
   "metadata": {},
   "source": [
    "#### Get the categorical columns without the GENDER becaseu it filled with another way later"
   ]
  },
  {
   "cell_type": "code",
   "execution_count": 20,
   "metadata": {},
   "outputs": [
    {
     "data": {
      "text/plain": [
       "['signup_method',\n",
       " 'signup_flow',\n",
       " 'language',\n",
       " 'affiliate_channel',\n",
       " 'affiliate_provider',\n",
       " 'first_affiliate_tracked',\n",
       " 'signup_app',\n",
       " 'first_device_type',\n",
       " 'first_browser',\n",
       " 'country_destination']"
      ]
     },
     "execution_count": 20,
     "metadata": {},
     "output_type": "execute_result"
    }
   ],
   "source": [
    "cat_cols = [item[0] for item in users.dtypes if (item[1].startswith('string')) & (item[0] != 'gender')] \n",
    "cat_cols"
   ]
  },
  {
   "cell_type": "markdown",
   "metadata": {},
   "source": [
    "#### Get the Numerical columns without the AGE becaseu it filled with another way later"
   ]
  },
  {
   "cell_type": "code",
   "execution_count": 21,
   "metadata": {},
   "outputs": [
    {
     "data": {
      "text/plain": [
       "['secs_elapsed',\n",
       " 'dac_year',\n",
       " 'dac_month',\n",
       " 'dac_day',\n",
       " 'tfa_year',\n",
       " 'tfa_month',\n",
       " 'tfa_day']"
      ]
     },
     "execution_count": 21,
     "metadata": {},
     "output_type": "execute_result"
    }
   ],
   "source": [
    "num_cols = [item[0] for item in users.dtypes if (item[1].startswith('int') | item[1].startswith('double')) & (item[0] != 'age')] \n",
    "num_cols"
   ]
  },
  {
   "cell_type": "markdown",
   "metadata": {},
   "source": [
    "#### Get null categorical columns AND fill null with most frequent value"
   ]
  },
  {
   "cell_type": "code",
   "execution_count": 22,
   "metadata": {},
   "outputs": [
    {
     "name": "stdout",
     "output_type": "stream",
     "text": [
      "first_affiliate_tracked untracked\n"
     ]
    }
   ],
   "source": [
    "cat_null_cols = [column for column in cat_cols if users.where(col(column).isNull()).count() > 0]\n",
    "data_noNull = users.na.drop(subset=cat_null_cols)\n",
    "for column in cat_null_cols:\n",
    "    data_noNull_per_column = data_noNull.select(column)\n",
    "    most_frequent = data_noNull_per_column.groupBy(column).count().sort(col(\"count\").desc()).collect()[0][0]\n",
    "    users = users.na.fill({column:most_frequent})\n",
    "    print (column,most_frequent)"
   ]
  },
  {
   "cell_type": "markdown",
   "metadata": {},
   "source": [
    "#### Get null numerical columns AND fill null with most frequent value"
   ]
  },
  {
   "cell_type": "code",
   "execution_count": 23,
   "metadata": {},
   "outputs": [
    {
     "name": "stdout",
     "output_type": "stream",
     "text": [
      "secs_elapsed 0.0\n"
     ]
    }
   ],
   "source": [
    "num_null_cols = [column for column in num_cols if users.filter(col(column).isNull() | col(column).eqNullSafe(0)).count() > 0]\n",
    "data_noNull = users.na.drop(subset=num_null_cols)\n",
    "for column in num_null_cols:\n",
    "    data_noNull_per_column = data_noNull.select(column)\n",
    "    most_frequent = data_noNull_per_column.groupBy(column).count().sort(col(\"count\").desc()).collect()[0][0]\n",
    "    users = users.na.fill({column:most_frequent})\n",
    "    print (column,most_frequent)"
   ]
  },
  {
   "cell_type": "markdown",
   "metadata": {},
   "source": [
    "#### fill the nulls and -unknown- values for gender columns by most frequent value GROUPED by destination country"
   ]
  },
  {
   "cell_type": "code",
   "execution_count": 24,
   "metadata": {},
   "outputs": [],
   "source": [
    "gender_noNull = users.filter(users['gender'] != '-unknown-')\n",
    "grouped_gender = gender_noNull.groupBy('country_destination', 'gender').count()\n",
    "window_gender = Window.partitionBy(\"country_destination\").orderBy(desc(\"count\"))\n",
    "grouped_gender = grouped_gender.withColumn('order', row_number().over(window_gender))\n",
    "grouped_gender = grouped_gender.where(col('order') == 1)\n",
    "\n",
    "grouped_gender = grouped_gender.withColumnRenamed(\"gender\",\"gender_ToBeUpdated\")\n",
    "grouped_gender = grouped_gender.withColumnRenamed(\"country_destination\",\"country_destination_ToBeChecked\")\n",
    "grouped_gender = grouped_gender.drop(\"count\")\n",
    "grouped_gender = grouped_gender.drop(\"order\")"
   ]
  },
  {
   "cell_type": "markdown",
   "metadata": {},
   "source": [
    "#### broadcast grouped gender by destination country dataframe with users dataframe"
   ]
  },
  {
   "cell_type": "code",
   "execution_count": 25,
   "metadata": {},
   "outputs": [],
   "source": [
    "users = users.join(broadcast(grouped_gender), users.country_destination == grouped_gender.country_destination_ToBeChecked)"
   ]
  },
  {
   "cell_type": "code",
   "execution_count": 26,
   "metadata": {},
   "outputs": [],
   "source": [
    "def change_gender(oldGender, newGender):\n",
    "    if (oldGender == '-unknown-'):\n",
    "        return newGender\n",
    "    return oldGender\n",
    "\n",
    "change_null_gender = udf(change_gender, StringType())\n",
    "users = users.withColumn('gender_new', change_null_gender(users.gender, users.gender_ToBeUpdated))"
   ]
  },
  {
   "cell_type": "code",
   "execution_count": 27,
   "metadata": {},
   "outputs": [
    {
     "name": "stdout",
     "output_type": "stream",
     "text": [
      "+---------+\n",
      "|   gender|\n",
      "+---------+\n",
      "|     MALE|\n",
      "|    OTHER|\n",
      "|-unknown-|\n",
      "|   FEMALE|\n",
      "+---------+\n",
      "\n",
      "+----------+\n",
      "|gender_new|\n",
      "+----------+\n",
      "|      MALE|\n",
      "|     OTHER|\n",
      "|    FEMALE|\n",
      "+----------+\n",
      "\n"
     ]
    }
   ],
   "source": [
    "users.select('gender').distinct().show()\n",
    "users.select('gender_new').distinct().show()"
   ]
  },
  {
   "cell_type": "markdown",
   "metadata": {},
   "source": [
    "#### fill the nulls and 0 values for age columns by most frequent value GROUPED by destination county"
   ]
  },
  {
   "cell_type": "code",
   "execution_count": 28,
   "metadata": {},
   "outputs": [],
   "source": [
    "age_noNull = users.filter(users['age'] != 0)\n",
    "grouped_age = age_noNull.groupBy('country_destination', 'age').count()\n",
    "window_age = Window.partitionBy(\"country_destination\").orderBy(desc(\"count\"))\n",
    "grouped_age = grouped_age.withColumn('order', row_number().over(window_age))\n",
    "grouped_age = grouped_age.where(col('order') == 1)\n",
    "\n",
    "grouped_age = grouped_age.withColumnRenamed(\"age\",\"age_ToBeUpdated\")\n",
    "grouped_age = grouped_age.withColumnRenamed(\"country_destination\",\"country_destination_ToBeChecked2\")\n",
    "grouped_age = grouped_age.drop(\"count\")\n",
    "grouped_age = grouped_age.drop(\"order\")"
   ]
  },
  {
   "cell_type": "markdown",
   "metadata": {},
   "source": [
    "#### broadcast grouped AGE by destination country dataframe with users dataframe"
   ]
  },
  {
   "cell_type": "code",
   "execution_count": 29,
   "metadata": {},
   "outputs": [],
   "source": [
    "users = users.join(broadcast(grouped_age), users.country_destination == grouped_age.country_destination_ToBeChecked2)"
   ]
  },
  {
   "cell_type": "code",
   "execution_count": 30,
   "metadata": {},
   "outputs": [
    {
     "data": {
      "text/plain": [
       "31300"
      ]
     },
     "execution_count": 30,
     "metadata": {},
     "output_type": "execute_result"
    }
   ],
   "source": [
    "users = users.na.fill({'age':0})\n",
    "users.filter(users['age'] == 0).count()"
   ]
  },
  {
   "cell_type": "code",
   "execution_count": 31,
   "metadata": {},
   "outputs": [
    {
     "data": {
      "text/plain": [
       "0"
      ]
     },
     "execution_count": 31,
     "metadata": {},
     "output_type": "execute_result"
    }
   ],
   "source": [
    "def change_age(oldAge, newAge):\n",
    "    if (oldAge == 0):\n",
    "        return newAge\n",
    "    return oldAge\n",
    "\n",
    "change_null_age = udf(change_age, IntegerType())\n",
    "users = users.withColumn('age_new', change_null_age(users.age, users.age_ToBeUpdated))\n",
    "users.filter(users['age_new'] == 0).count()"
   ]
  },
  {
   "cell_type": "markdown",
   "metadata": {},
   "source": [
    "#### replace the values less than 18 or greater than 110 to be with most frequent value for age"
   ]
  },
  {
   "cell_type": "code",
   "execution_count": 32,
   "metadata": {},
   "outputs": [],
   "source": [
    "change_over_age = udf(lambda value: 30 if value>110 else value, IntegerType())\n",
    "change_under_age = udf(lambda value: 30 if value<18 else value, IntegerType())\n",
    "users = users.withColumn('age_new', change_over_age(users['age_new']))\n",
    "users = users.withColumn('age_new', change_under_age(users['age_new']))"
   ]
  },
  {
   "cell_type": "markdown",
   "metadata": {},
   "source": [
    "#### remove unneeded columns"
   ]
  },
  {
   "cell_type": "code",
   "execution_count": 33,
   "metadata": {},
   "outputs": [
    {
     "name": "stdout",
     "output_type": "stream",
     "text": [
      "root\n",
      " |-- signup_method: string (nullable = true)\n",
      " |-- signup_flow: string (nullable = true)\n",
      " |-- language: string (nullable = true)\n",
      " |-- affiliate_channel: string (nullable = true)\n",
      " |-- affiliate_provider: string (nullable = true)\n",
      " |-- first_affiliate_tracked: string (nullable = false)\n",
      " |-- signup_app: string (nullable = true)\n",
      " |-- first_device_type: string (nullable = true)\n",
      " |-- first_browser: string (nullable = true)\n",
      " |-- country_destination: string (nullable = true)\n",
      " |-- secs_elapsed: double (nullable = false)\n",
      " |-- dac_year: integer (nullable = true)\n",
      " |-- dac_month: integer (nullable = true)\n",
      " |-- dac_day: integer (nullable = true)\n",
      " |-- tfa_year: integer (nullable = true)\n",
      " |-- tfa_month: integer (nullable = true)\n",
      " |-- tfa_day: integer (nullable = true)\n",
      " |-- gender_new: string (nullable = true)\n",
      " |-- age_new: integer (nullable = true)\n",
      "\n"
     ]
    }
   ],
   "source": [
    "users =users.drop('gender','age','country_destination_ToBeChecked','gender_ToBeUpdated','country_destination_ToBeChecked2','age_ToBeUpdated')\n",
    "users.printSchema()"
   ]
  },
  {
   "cell_type": "markdown",
   "metadata": {},
   "source": [
    "#### update the array of catogrical columns to contain the gender column"
   ]
  },
  {
   "cell_type": "code",
   "execution_count": 34,
   "metadata": {},
   "outputs": [],
   "source": [
    "cat_cols = [item[0] for item in users.dtypes if (item[1].startswith('string'))] "
   ]
  },
  {
   "cell_type": "markdown",
   "metadata": {},
   "source": [
    "### Prepration for Classification"
   ]
  },
  {
   "cell_type": "markdown",
   "metadata": {},
   "source": [
    "#### make the label encoding for numerical columns"
   ]
  },
  {
   "cell_type": "code",
   "execution_count": 35,
   "metadata": {},
   "outputs": [],
   "source": [
    "indexers = [StringIndexer(\n",
    "    inputCol=column, \n",
    "    outputCol=column + '_index', \n",
    "    handleInvalid='keep') for column in cat_cols]"
   ]
  },
  {
   "cell_type": "markdown",
   "metadata": {},
   "source": [
    "#### make one hot encoding for categorical columns"
   ]
  },
  {
   "cell_type": "code",
   "execution_count": 36,
   "metadata": {},
   "outputs": [],
   "source": [
    "encoders = [OneHotEncoder(\n",
    "    inputCol=column + '_index', \n",
    "    outputCol= column + '_encoded') for column in cat_cols if column not in ['country_destination']]"
   ]
  },
  {
   "cell_type": "markdown",
   "metadata": {},
   "source": [
    "#### create the pipline"
   ]
  },
  {
   "cell_type": "code",
   "execution_count": 37,
   "metadata": {},
   "outputs": [],
   "source": [
    "pipeline = Pipeline(stages=indexers + encoders)"
   ]
  },
  {
   "cell_type": "markdown",
   "metadata": {},
   "source": [
    "#### split the dataset for a training and testing parts"
   ]
  },
  {
   "cell_type": "code",
   "execution_count": 38,
   "metadata": {},
   "outputs": [],
   "source": [
    "(trainingData, testData) = users.randomSplit([0.8,0.2])"
   ]
  },
  {
   "cell_type": "code",
   "execution_count": 39,
   "metadata": {},
   "outputs": [],
   "source": [
    "transformedDF = pipeline.fit(trainingData).transform(trainingData)"
   ]
  },
  {
   "cell_type": "markdown",
   "metadata": {},
   "source": [
    "#### specify the requeired columns to be as features for our model\n",
    "##### thery are updated after checing the feature importance from random forest classfier"
   ]
  },
  {
   "cell_type": "code",
   "execution_count": 40,
   "metadata": {},
   "outputs": [],
   "source": [
    "requiredFeatures = [\n",
    "    'age_new',\n",
    "    'signup_flow_encoded',\n",
    "    'gender_new_encoded',\n",
    "    'signup_method_encoded',\n",
    "  #  'language_encoded',\n",
    "  #  'affiliate_channel_encoded',\n",
    "  #  'affiliate_provider_encoded',\n",
    "  #  'first_affiliate_tracked_encoded',\n",
    "  #  'signup_app_encoded',\n",
    "  #  'first_device_type_encoded',\n",
    "    'first_browser_encoded',\n",
    "    'secs_elapsed',\n",
    "  #  'dac_year',\n",
    "    'dac_month',\n",
    "    'dac_day',\n",
    "  #  'tfa_year',\n",
    "    'tfa_month',\n",
    "    'tfa_day'\n",
    "]"
   ]
  },
  {
   "cell_type": "markdown",
   "metadata": {},
   "source": [
    "#### create vector assmbler and make transfrom for the data"
   ]
  },
  {
   "cell_type": "code",
   "execution_count": 41,
   "metadata": {},
   "outputs": [],
   "source": [
    "assembler = VectorAssembler(inputCols=requiredFeatures, outputCol='features')"
   ]
  },
  {
   "cell_type": "code",
   "execution_count": 42,
   "metadata": {},
   "outputs": [],
   "source": [
    "transformedDF = assembler.transform(transformedDF)"
   ]
  },
  {
   "cell_type": "markdown",
   "metadata": {},
   "source": [
    "### Decision Tree Classifier"
   ]
  },
  {
   "cell_type": "code",
   "execution_count": 43,
   "metadata": {},
   "outputs": [
    {
     "name": "stdout",
     "output_type": "stream",
     "text": [
      "Accuracy = 0.677574 \n"
     ]
    }
   ],
   "source": [
    "# Train a DecisionTree model.\n",
    "dt = DecisionTreeClassifier(featuresCol = 'features', labelCol = 'country_destination_index',maxDepth=20)\n",
    "\n",
    "pipeline = Pipeline(\n",
    "    stages=indexers + encoders  + [assembler, dt]\n",
    ")\n",
    "\n",
    "# Train model.  This also runs the indexers.\n",
    "model = pipeline.fit(trainingData)\n",
    "\n",
    "# Make predictions.\n",
    "predictions = model.transform(testData)\n",
    "\n",
    "# create ealuator\n",
    "evaluator = MulticlassClassificationEvaluator(\n",
    "    labelCol=\"country_destination_index\", predictionCol=\"prediction\", metricName=\"accuracy\")\n",
    "\n",
    "# check the accuracy\n",
    "accuracy = evaluator.evaluate(predictions)\n",
    "print(\"Accuracy = %g \" % (accuracy))"
   ]
  },
  {
   "cell_type": "code",
   "execution_count": 44,
   "metadata": {},
   "outputs": [
    {
     "name": "stdout",
     "output_type": "stream",
     "text": [
      "root\n",
      " |-- signup_method: string (nullable = true)\n",
      " |-- signup_flow: string (nullable = true)\n",
      " |-- language: string (nullable = true)\n",
      " |-- affiliate_channel: string (nullable = true)\n",
      " |-- affiliate_provider: string (nullable = true)\n",
      " |-- first_affiliate_tracked: string (nullable = false)\n",
      " |-- signup_app: string (nullable = true)\n",
      " |-- first_device_type: string (nullable = true)\n",
      " |-- first_browser: string (nullable = true)\n",
      " |-- country_destination: string (nullable = true)\n",
      " |-- secs_elapsed: double (nullable = false)\n",
      " |-- dac_year: integer (nullable = true)\n",
      " |-- dac_month: integer (nullable = true)\n",
      " |-- dac_day: integer (nullable = true)\n",
      " |-- tfa_year: integer (nullable = true)\n",
      " |-- tfa_month: integer (nullable = true)\n",
      " |-- tfa_day: integer (nullable = true)\n",
      " |-- gender_new: string (nullable = true)\n",
      " |-- age_new: integer (nullable = true)\n",
      " |-- signup_method_index: double (nullable = false)\n",
      " |-- signup_flow_index: double (nullable = false)\n",
      " |-- language_index: double (nullable = false)\n",
      " |-- affiliate_channel_index: double (nullable = false)\n",
      " |-- affiliate_provider_index: double (nullable = false)\n",
      " |-- first_affiliate_tracked_index: double (nullable = false)\n",
      " |-- signup_app_index: double (nullable = false)\n",
      " |-- first_device_type_index: double (nullable = false)\n",
      " |-- first_browser_index: double (nullable = false)\n",
      " |-- country_destination_index: double (nullable = false)\n",
      " |-- gender_new_index: double (nullable = false)\n",
      " |-- signup_method_encoded: vector (nullable = true)\n",
      " |-- signup_flow_encoded: vector (nullable = true)\n",
      " |-- language_encoded: vector (nullable = true)\n",
      " |-- affiliate_channel_encoded: vector (nullable = true)\n",
      " |-- affiliate_provider_encoded: vector (nullable = true)\n",
      " |-- first_affiliate_tracked_encoded: vector (nullable = true)\n",
      " |-- signup_app_encoded: vector (nullable = true)\n",
      " |-- first_device_type_encoded: vector (nullable = true)\n",
      " |-- first_browser_encoded: vector (nullable = true)\n",
      " |-- gender_new_encoded: vector (nullable = true)\n",
      " |-- features: vector (nullable = true)\n",
      " |-- rawPrediction: vector (nullable = true)\n",
      " |-- probability: vector (nullable = true)\n",
      " |-- prediction: double (nullable = false)\n",
      "\n"
     ]
    }
   ],
   "source": [
    "predictions.printSchema()"
   ]
  },
  {
   "cell_type": "markdown",
   "metadata": {},
   "source": [
    "#### use Random Forest classifier"
   ]
  },
  {
   "cell_type": "code",
   "execution_count": 46,
   "metadata": {},
   "outputs": [
    {
     "name": "stdout",
     "output_type": "stream",
     "text": [
      "Accuracy =  0.7194115536419089\n"
     ]
    }
   ],
   "source": [
    "# Train a RandomForestModel\n",
    "rf = RandomForestClassifier(\n",
    "         labelCol='country_destination_index', \n",
    "         featuresCol='features',\n",
    "         maxDepth=20)\n",
    "\n",
    "pipeline = Pipeline(\n",
    "    stages=indexers + encoders  + [assembler, rf]\n",
    ")\n",
    "\n",
    "# Train model.  This also runs the indexers.\n",
    "model = pipeline.fit(trainingData)\n",
    "\n",
    "# Make predictions.\n",
    "predictions = model.transform(testData)\n",
    "\n",
    "# create ealuator\n",
    "evaluator = MulticlassClassificationEvaluator(\n",
    "    labelCol='country_destination_index', \n",
    "    predictionCol='prediction', \n",
    "    metricName='accuracy')\n",
    "\n",
    "# check the accuracy\n",
    "accuracy = evaluator.evaluate(predictions)\n",
    "print('Accuracy = ', accuracy)"
   ]
  },
  {
   "cell_type": "code",
   "execution_count": 47,
   "metadata": {},
   "outputs": [
    {
     "name": "stdout",
     "output_type": "stream",
     "text": [
      "root\n",
      " |-- signup_method: string (nullable = true)\n",
      " |-- signup_flow: string (nullable = true)\n",
      " |-- language: string (nullable = true)\n",
      " |-- affiliate_channel: string (nullable = true)\n",
      " |-- affiliate_provider: string (nullable = true)\n",
      " |-- first_affiliate_tracked: string (nullable = false)\n",
      " |-- signup_app: string (nullable = true)\n",
      " |-- first_device_type: string (nullable = true)\n",
      " |-- first_browser: string (nullable = true)\n",
      " |-- country_destination: string (nullable = true)\n",
      " |-- secs_elapsed: double (nullable = false)\n",
      " |-- dac_year: integer (nullable = true)\n",
      " |-- dac_month: integer (nullable = true)\n",
      " |-- dac_day: integer (nullable = true)\n",
      " |-- tfa_year: integer (nullable = true)\n",
      " |-- tfa_month: integer (nullable = true)\n",
      " |-- tfa_day: integer (nullable = true)\n",
      " |-- gender_new: string (nullable = true)\n",
      " |-- age_new: integer (nullable = true)\n",
      " |-- signup_method_index: double (nullable = false)\n",
      " |-- signup_flow_index: double (nullable = false)\n",
      " |-- language_index: double (nullable = false)\n",
      " |-- affiliate_channel_index: double (nullable = false)\n",
      " |-- affiliate_provider_index: double (nullable = false)\n",
      " |-- first_affiliate_tracked_index: double (nullable = false)\n",
      " |-- signup_app_index: double (nullable = false)\n",
      " |-- first_device_type_index: double (nullable = false)\n",
      " |-- first_browser_index: double (nullable = false)\n",
      " |-- country_destination_index: double (nullable = false)\n",
      " |-- gender_new_index: double (nullable = false)\n",
      " |-- signup_method_encoded: vector (nullable = true)\n",
      " |-- signup_flow_encoded: vector (nullable = true)\n",
      " |-- language_encoded: vector (nullable = true)\n",
      " |-- affiliate_channel_encoded: vector (nullable = true)\n",
      " |-- affiliate_provider_encoded: vector (nullable = true)\n",
      " |-- first_affiliate_tracked_encoded: vector (nullable = true)\n",
      " |-- signup_app_encoded: vector (nullable = true)\n",
      " |-- first_device_type_encoded: vector (nullable = true)\n",
      " |-- first_browser_encoded: vector (nullable = true)\n",
      " |-- gender_new_encoded: vector (nullable = true)\n",
      " |-- features: vector (nullable = true)\n",
      " |-- rawPrediction: vector (nullable = true)\n",
      " |-- probability: vector (nullable = true)\n",
      " |-- prediction: double (nullable = false)\n",
      "\n"
     ]
    }
   ],
   "source": [
    "predictions.printSchema()"
   ]
  },
  {
   "cell_type": "markdown",
   "metadata": {},
   "source": [
    "#### check the importance of the features"
   ]
  },
  {
   "cell_type": "code",
   "execution_count": 48,
   "metadata": {},
   "outputs": [
    {
     "data": {
      "text/html": [
       "<div>\n",
       "<style scoped>\n",
       "    .dataframe tbody tr th:only-of-type {\n",
       "        vertical-align: middle;\n",
       "    }\n",
       "\n",
       "    .dataframe tbody tr th {\n",
       "        vertical-align: top;\n",
       "    }\n",
       "\n",
       "    .dataframe thead th {\n",
       "        text-align: right;\n",
       "    }\n",
       "</style>\n",
       "<table border=\"1\" class=\"dataframe\">\n",
       "  <thead>\n",
       "    <tr style=\"text-align: right;\">\n",
       "      <th></th>\n",
       "      <th>idx</th>\n",
       "      <th>name</th>\n",
       "      <th>score</th>\n",
       "    </tr>\n",
       "  </thead>\n",
       "  <tbody>\n",
       "    <tr>\n",
       "      <th>0</th>\n",
       "      <td>0</td>\n",
       "      <td>age_new</td>\n",
       "      <td>0.571887</td>\n",
       "    </tr>\n",
       "    <tr>\n",
       "      <th>1</th>\n",
       "      <td>44</td>\n",
       "      <td>secs_elapsed</td>\n",
       "      <td>0.083605</td>\n",
       "    </tr>\n",
       "    <tr>\n",
       "      <th>13</th>\n",
       "      <td>8</td>\n",
       "      <td>gender_new_encoded_MALE</td>\n",
       "      <td>0.043482</td>\n",
       "    </tr>\n",
       "    <tr>\n",
       "      <th>3</th>\n",
       "      <td>46</td>\n",
       "      <td>dac_day</td>\n",
       "      <td>0.037311</td>\n",
       "    </tr>\n",
       "    <tr>\n",
       "      <th>16</th>\n",
       "      <td>11</td>\n",
       "      <td>signup_method_encoded_facebook</td>\n",
       "      <td>0.037207</td>\n",
       "    </tr>\n",
       "    <tr>\n",
       "      <th>5</th>\n",
       "      <td>48</td>\n",
       "      <td>tfa_day</td>\n",
       "      <td>0.037124</td>\n",
       "    </tr>\n",
       "    <tr>\n",
       "      <th>15</th>\n",
       "      <td>10</td>\n",
       "      <td>signup_method_encoded_basic</td>\n",
       "      <td>0.036798</td>\n",
       "    </tr>\n",
       "    <tr>\n",
       "      <th>12</th>\n",
       "      <td>7</td>\n",
       "      <td>gender_new_encoded_FEMALE</td>\n",
       "      <td>0.025823</td>\n",
       "    </tr>\n",
       "    <tr>\n",
       "      <th>20</th>\n",
       "      <td>15</td>\n",
       "      <td>first_browser_encoded_-unknown-</td>\n",
       "      <td>0.018233</td>\n",
       "    </tr>\n",
       "    <tr>\n",
       "      <th>2</th>\n",
       "      <td>45</td>\n",
       "      <td>dac_month</td>\n",
       "      <td>0.016851</td>\n",
       "    </tr>\n",
       "  </tbody>\n",
       "</table>\n",
       "</div>"
      ],
      "text/plain": [
       "    idx                             name     score\n",
       "0     0                          age_new  0.571887\n",
       "1    44                     secs_elapsed  0.083605\n",
       "13    8          gender_new_encoded_MALE  0.043482\n",
       "3    46                          dac_day  0.037311\n",
       "16   11   signup_method_encoded_facebook  0.037207\n",
       "5    48                          tfa_day  0.037124\n",
       "15   10      signup_method_encoded_basic  0.036798\n",
       "12    7        gender_new_encoded_FEMALE  0.025823\n",
       "20   15  first_browser_encoded_-unknown-  0.018233\n",
       "2    45                        dac_month  0.016851"
      ]
     },
     "execution_count": 48,
     "metadata": {},
     "output_type": "execute_result"
    }
   ],
   "source": [
    "def ExtractFeatureImp(featureImp, dataset, featuresCol):\n",
    "    list_extract = []\n",
    "    for i in dataset.schema[featuresCol].metadata[\"ml_attr\"][\"attrs\"]:\n",
    "        list_extract = list_extract + dataset.schema[featuresCol].metadata[\"ml_attr\"][\"attrs\"][i]\n",
    "    varlist = pd.DataFrame(list_extract)\n",
    "    varlist['score'] = varlist['idx'].apply(lambda x: featureImp[x])\n",
    "    return(varlist.sort_values('score', ascending = False))\n",
    "\n",
    "importance = model.stages[-1].featureImportances\n",
    "ExtractFeatureImp(importance, transformedDF, \"features\").head(10)"
   ]
  },
  {
   "cell_type": "markdown",
   "metadata": {},
   "source": [
    "#### using XGBooster Classifier"
   ]
  },
  {
   "cell_type": "code",
   "execution_count": 49,
   "metadata": {},
   "outputs": [],
   "source": [
    "from sparkxgb import XGBoostEstimator\n",
    "#help (XGBoostEstimator)"
   ]
  },
  {
   "cell_type": "code",
   "execution_count": 50,
   "metadata": {},
   "outputs": [
    {
     "name": "stdout",
     "output_type": "stream",
     "text": [
      "Accuracy =  0.656691783279512\n"
     ]
    }
   ],
   "source": [
    "# Train a XGBoostEstimator model\n",
    "xgboost = XGBoostEstimator(\n",
    "    featuresCol=\"features\", \n",
    "    labelCol=\"country_destination_index\", \n",
    "    predictionCol=\"prediction\",    \n",
    "    max_depth=20,\n",
    "    objective='multi:softprob',\n",
    "    subsample=0.5,\n",
    "    colsample_bytree=0.5,\n",
    "    seed=0,\n",
    "    num_class=12,\n",
    "    eval_metric=\"mlogloss\"\n",
    ")\n",
    "\n",
    "pipeline = Pipeline(\n",
    "    stages=indexers + encoders  + [assembler, xgboost]\n",
    ")\n",
    "\n",
    "# Train model.  This also runs the indexers.\n",
    "model = pipeline.fit(trainingData)\n",
    "\n",
    "# Make predictions.\n",
    "predictions = model.transform(testData)\n",
    "\n",
    "# create ealuator\n",
    "evaluator = MulticlassClassificationEvaluator(\n",
    "    labelCol='country_destination_index', \n",
    "    predictionCol='prediction', \n",
    "    metricName='accuracy')\n",
    "\n",
    "# check the accuracy\n",
    "accuracy = evaluator.evaluate(predictions)\n",
    "print('Accuracy = ', accuracy)"
   ]
  },
  {
   "cell_type": "code",
   "execution_count": 51,
   "metadata": {},
   "outputs": [
    {
     "name": "stdout",
     "output_type": "stream",
     "text": [
      "root\n",
      " |-- signup_method: string (nullable = true)\n",
      " |-- signup_flow: string (nullable = true)\n",
      " |-- language: string (nullable = true)\n",
      " |-- affiliate_channel: string (nullable = true)\n",
      " |-- affiliate_provider: string (nullable = true)\n",
      " |-- first_affiliate_tracked: string (nullable = false)\n",
      " |-- signup_app: string (nullable = true)\n",
      " |-- first_device_type: string (nullable = true)\n",
      " |-- first_browser: string (nullable = true)\n",
      " |-- country_destination: string (nullable = true)\n",
      " |-- secs_elapsed: double (nullable = false)\n",
      " |-- dac_year: integer (nullable = true)\n",
      " |-- dac_month: integer (nullable = true)\n",
      " |-- dac_day: integer (nullable = true)\n",
      " |-- tfa_year: integer (nullable = true)\n",
      " |-- tfa_month: integer (nullable = true)\n",
      " |-- tfa_day: integer (nullable = true)\n",
      " |-- gender_new: string (nullable = true)\n",
      " |-- age_new: integer (nullable = true)\n",
      " |-- signup_method_index: double (nullable = false)\n",
      " |-- signup_flow_index: double (nullable = false)\n",
      " |-- language_index: double (nullable = false)\n",
      " |-- affiliate_channel_index: double (nullable = false)\n",
      " |-- affiliate_provider_index: double (nullable = false)\n",
      " |-- first_affiliate_tracked_index: double (nullable = false)\n",
      " |-- signup_app_index: double (nullable = false)\n",
      " |-- first_device_type_index: double (nullable = false)\n",
      " |-- first_browser_index: double (nullable = false)\n",
      " |-- country_destination_index: double (nullable = false)\n",
      " |-- gender_new_index: double (nullable = false)\n",
      " |-- signup_method_encoded: vector (nullable = true)\n",
      " |-- signup_flow_encoded: vector (nullable = true)\n",
      " |-- language_encoded: vector (nullable = true)\n",
      " |-- affiliate_channel_encoded: vector (nullable = true)\n",
      " |-- affiliate_provider_encoded: vector (nullable = true)\n",
      " |-- first_affiliate_tracked_encoded: vector (nullable = true)\n",
      " |-- signup_app_encoded: vector (nullable = true)\n",
      " |-- first_device_type_encoded: vector (nullable = true)\n",
      " |-- first_browser_encoded: vector (nullable = true)\n",
      " |-- gender_new_encoded: vector (nullable = true)\n",
      " |-- features: vector (nullable = true)\n",
      " |-- probabilities: vector (nullable = true)\n",
      " |-- prediction: double (nullable = false)\n",
      "\n"
     ]
    }
   ],
   "source": [
    "predictions.printSchema()"
   ]
  },
  {
   "cell_type": "markdown",
   "metadata": {},
   "source": [
    "### Preparing to test using testing dataset"
   ]
  },
  {
   "cell_type": "markdown",
   "metadata": {},
   "source": [
    "#### get all the destination with its label encoding to match later from the probality"
   ]
  },
  {
   "cell_type": "code",
   "execution_count": 52,
   "metadata": {},
   "outputs": [
    {
     "name": "stdout",
     "output_type": "stream",
     "text": [
      "+-------------------+-------------------------+\n",
      "|country_destination|country_destination_index|\n",
      "+-------------------+-------------------------+\n",
      "|                NDF|                      0.0|\n",
      "|                 US|                      1.0|\n",
      "|                 FR|                      2.0|\n",
      "|                 IT|                      3.0|\n",
      "|                 GB|                      4.0|\n",
      "|                 ES|                      5.0|\n",
      "|                 CA|                      6.0|\n",
      "|                 DE|                      7.0|\n",
      "|                 NL|                      8.0|\n",
      "|                 AU|                      9.0|\n",
      "|                 PT|                     10.0|\n",
      "+-------------------+-------------------------+\n",
      "\n"
     ]
    }
   ],
   "source": [
    "countryLables = predictions.select('country_destination','country_destination_index').distinct().sort(predictions.country_destination_index)\n",
    "countryLables.show()"
   ]
  },
  {
   "cell_type": "markdown",
   "metadata": {},
   "source": [
    "#### Reading the test data"
   ]
  },
  {
   "cell_type": "code",
   "execution_count": 53,
   "metadata": {},
   "outputs": [],
   "source": [
    "users_test = spark.read\\\n",
    "               .format(\"csv\")\\\n",
    "               .option(\"header\", \"true\")\\\n",
    "               .load(\"input/test_users.csv\")"
   ]
  },
  {
   "cell_type": "markdown",
   "metadata": {},
   "source": [
    "#### apply the same feature engineeing which is done for traing dataset except agr and gender filling nulls to be done only with the frequent values"
   ]
  },
  {
   "cell_type": "code",
   "execution_count": 54,
   "metadata": {},
   "outputs": [],
   "source": [
    "# Make a join between session dataframe and user to add the the feature of total sessions for the user\n",
    "users_test = users_test.join(sessions, users_test.id == sessions.user_id)\n",
    "# cast the age feature to be integer\n",
    "users_test = users_test.withColumn(\"age\", users_test[\"age\"].cast(IntegerType()))\n",
    "\n",
    "# Generate 3 features from date_account_created (year, month, day)\n",
    "users_test = users_test.withColumn('dac_year', split(users_test.date_account_created, '-')[0])\n",
    "users_test = users_test.withColumn('dac_month', split(users_test.date_account_created, '-')[1])\n",
    "users_test = users_test.withColumn('dac_day', split(users_test.date_account_created, '-')[2])\n",
    "users_test = users_test.drop('date_account_created')\n",
    "\n",
    "users_test = users_test.withColumn(\"dac_year\", users_test[\"dac_year\"].cast(IntegerType()))\n",
    "users_test = users_test.withColumn(\"dac_month\", users_test[\"dac_month\"].cast(IntegerType()))\n",
    "users_test = users_test.withColumn(\"dac_day\", users_test[\"dac_day\"].cast(IntegerType()))\n",
    "\n",
    "# Generate 3 features from timestamp_first_active (year, month, day)\n",
    "users_test = users_test.withColumn('tfa_year', get_year_part_udf(users_test.timestamp_first_active))\n",
    "users_test = users_test.withColumn('tfa_month', get_month_part_udf(users_test.timestamp_first_active))\n",
    "users_test = users_test.withColumn('tfa_day', get_day_part_udf(users_test.timestamp_first_active))\n",
    "users_test = users_test.drop('timestamp_first_active')\n",
    "\n",
    "users_test = users_test.drop('user_id','action','action_type','action_detail','device_type', 'date_first_booking')"
   ]
  },
  {
   "cell_type": "markdown",
   "metadata": {},
   "source": [
    "#### get the catorigcal and numerical colums"
   ]
  },
  {
   "cell_type": "code",
   "execution_count": 55,
   "metadata": {},
   "outputs": [],
   "source": [
    "cat_cols = [item[0] for item in users_test.dtypes if (item[1].startswith('string'))] \n",
    "num_cols = [item[0] for item in users_test.dtypes if (item[1].startswith('int') | item[1].startswith('double'))] "
   ]
  },
  {
   "cell_type": "markdown",
   "metadata": {},
   "source": [
    "#### check the nulls  for categorical columns  and fill nulls in in theses columns"
   ]
  },
  {
   "cell_type": "code",
   "execution_count": 56,
   "metadata": {},
   "outputs": [
    {
     "name": "stdout",
     "output_type": "stream",
     "text": [
      "first_affiliate_tracked untracked\n"
     ]
    }
   ],
   "source": [
    "cat_null_cols = [column for column in cat_cols if users_test.where(col(column).isNull()).count() > 0]\n",
    "data_noNull = users_test.na.drop(subset=cat_null_cols)\n",
    "for column in cat_null_cols:\n",
    "    data_noNull_per_column = data_noNull.select(column)\n",
    "    most_frequent = data_noNull_per_column.groupBy(column).count().sort(col(\"count\").desc()).collect()[0][0]\n",
    "    users_test = users_test.na.fill({column:most_frequent})\n",
    "    print (column,most_frequent)"
   ]
  },
  {
   "cell_type": "markdown",
   "metadata": {},
   "source": [
    "#### check the nulls  for numerical columns  and fill nulls in in theses columns"
   ]
  },
  {
   "cell_type": "code",
   "execution_count": 57,
   "metadata": {},
   "outputs": [
    {
     "name": "stdout",
     "output_type": "stream",
     "text": [
      "age 28\n",
      "secs_elapsed 0.0\n"
     ]
    }
   ],
   "source": [
    "num_null_cols = [column for column in num_cols if users_test.filter(col(column).isNull() | col(column).eqNullSafe(0)).count() > 0]\n",
    "data_noNull = users_test.na.drop(subset=num_null_cols)\n",
    "for column in num_null_cols:\n",
    "    data_noNull_per_column = data_noNull.select(column)\n",
    "    most_frequent = data_noNull_per_column.groupBy(column).count().sort(col(\"count\").desc()).collect()[0][0]\n",
    "    users_test = users_test.na.fill({column:most_frequent})\n",
    "    print (column,most_frequent)"
   ]
  },
  {
   "cell_type": "markdown",
   "metadata": {},
   "source": [
    "#### replace the values less than 18 or greater than 110 to be with most frequent value for age"
   ]
  },
  {
   "cell_type": "code",
   "execution_count": 58,
   "metadata": {},
   "outputs": [],
   "source": [
    "users_test = users_test.withColumnRenamed('age','age_new')\n",
    "users_test = users_test.withColumnRenamed('gender','gender_new')\n",
    "\n",
    "users_test = users_test.withColumn('age_new', change_over_age(users_test['age_new']))\n",
    "users_test = users_test.withColumn('age_new', change_under_age(users_test['age_new']))"
   ]
  },
  {
   "cell_type": "markdown",
   "metadata": {},
   "source": [
    "#### fit the model"
   ]
  },
  {
   "cell_type": "code",
   "execution_count": 59,
   "metadata": {},
   "outputs": [],
   "source": [
    "predictions = model.transform(users_test)"
   ]
  },
  {
   "cell_type": "markdown",
   "metadata": {},
   "source": [
    "#### get probalities columns which will be used later to get first 5 possible bookings"
   ]
  },
  {
   "cell_type": "code",
   "execution_count": 60,
   "metadata": {},
   "outputs": [],
   "source": [
    "pro = predictions.select('probabilities').toPandas()"
   ]
  },
  {
   "cell_type": "markdown",
   "metadata": {},
   "source": [
    "#### get id columns to match with coountry "
   ]
  },
  {
   "cell_type": "code",
   "execution_count": 61,
   "metadata": {},
   "outputs": [],
   "source": [
    "id_test = predictions.select('id').toPandas()"
   ]
  },
  {
   "cell_type": "markdown",
   "metadata": {},
   "source": [
    "#### Taking the 5 classes with highest probabilities"
   ]
  },
  {
   "cell_type": "code",
   "execution_count": 63,
   "metadata": {},
   "outputs": [
    {
     "name": "stdout",
     "output_type": "stream",
     "text": [
      "0\n",
      "10000\n",
      "20000\n",
      "30000\n",
      "40000\n",
      "50000\n",
      "60000\n"
     ]
    }
   ],
   "source": [
    "def mapCountryLabel (index):\n",
    "    if(index == 0):\n",
    "        return 'NDF'\n",
    "    elif(index ==1):\n",
    "        return 'US'\n",
    "    elif(index ==2):\n",
    "        return 'FR'\n",
    "    elif(index ==3):\n",
    "        return 'IT'\n",
    "    elif(index ==4):\n",
    "        return 'GB'\n",
    "    elif(index ==5):\n",
    "        return 'ES'\n",
    "    elif(index ==6):\n",
    "        return 'CA'\n",
    "    elif(index ==7):\n",
    "        return 'DE'\n",
    "    elif(index ==8):\n",
    "        return 'NL'\n",
    "    elif(index ==9):\n",
    "        return 'AU'\n",
    "    elif(index ==10):\n",
    "        return 'PT' \n",
    "    \n",
    "    return 'other'\n",
    "\n",
    "\n",
    "test_count = int(id_test.count())\n",
    "\n",
    "ids = []  #list of ids\n",
    "cts = []  #list of countries\n",
    "for i in range(test_count):\n",
    "    if(i % 10000 == 0):\n",
    "        print(i)\n",
    "    idx = id_test.iloc[i][0]\n",
    "    ids += [idx] * 5\n",
    "    original = pro.iloc[i][0].tolist()\n",
    "    sortedarr = np.sort(pro.iloc[i][0])[::-1][:5]\n",
    "    for j in range(5):\n",
    "        result = original.index(sortedarr[j])\n",
    "        result = mapCountryLabel(result)\n",
    "        cts += [result]  #test.select('country_destination').where(test.country_destination_index == result).toPandas().iloc[0][0]"
   ]
  },
  {
   "cell_type": "markdown",
   "metadata": {},
   "source": [
    "#### Generate submission\n"
   ]
  },
  {
   "cell_type": "code",
   "execution_count": 64,
   "metadata": {},
   "outputs": [
    {
     "data": {
      "text/html": [
       "<div>\n",
       "<style scoped>\n",
       "    .dataframe tbody tr th:only-of-type {\n",
       "        vertical-align: middle;\n",
       "    }\n",
       "\n",
       "    .dataframe tbody tr th {\n",
       "        vertical-align: top;\n",
       "    }\n",
       "\n",
       "    .dataframe thead th {\n",
       "        text-align: right;\n",
       "    }\n",
       "</style>\n",
       "<table border=\"1\" class=\"dataframe\">\n",
       "  <thead>\n",
       "    <tr style=\"text-align: right;\">\n",
       "      <th></th>\n",
       "      <th>id</th>\n",
       "      <th>country</th>\n",
       "    </tr>\n",
       "  </thead>\n",
       "  <tbody>\n",
       "    <tr>\n",
       "      <th>0</th>\n",
       "      <td>ab6t9i0zbh</td>\n",
       "      <td>NDF</td>\n",
       "    </tr>\n",
       "    <tr>\n",
       "      <th>1</th>\n",
       "      <td>ab6t9i0zbh</td>\n",
       "      <td>US</td>\n",
       "    </tr>\n",
       "    <tr>\n",
       "      <th>2</th>\n",
       "      <td>ab6t9i0zbh</td>\n",
       "      <td>CA</td>\n",
       "    </tr>\n",
       "    <tr>\n",
       "      <th>3</th>\n",
       "      <td>ab6t9i0zbh</td>\n",
       "      <td>GB</td>\n",
       "    </tr>\n",
       "    <tr>\n",
       "      <th>4</th>\n",
       "      <td>ab6t9i0zbh</td>\n",
       "      <td>FR</td>\n",
       "    </tr>\n",
       "    <tr>\n",
       "      <th>...</th>\n",
       "      <td>...</td>\n",
       "      <td>...</td>\n",
       "    </tr>\n",
       "    <tr>\n",
       "      <th>308335</th>\n",
       "      <td>6iclyho8bp</td>\n",
       "      <td>US</td>\n",
       "    </tr>\n",
       "    <tr>\n",
       "      <th>308336</th>\n",
       "      <td>6iclyho8bp</td>\n",
       "      <td>NDF</td>\n",
       "    </tr>\n",
       "    <tr>\n",
       "      <th>308337</th>\n",
       "      <td>6iclyho8bp</td>\n",
       "      <td>DE</td>\n",
       "    </tr>\n",
       "    <tr>\n",
       "      <th>308338</th>\n",
       "      <td>6iclyho8bp</td>\n",
       "      <td>CA</td>\n",
       "    </tr>\n",
       "    <tr>\n",
       "      <th>308339</th>\n",
       "      <td>6iclyho8bp</td>\n",
       "      <td>FR</td>\n",
       "    </tr>\n",
       "  </tbody>\n",
       "</table>\n",
       "<p>308340 rows × 2 columns</p>\n",
       "</div>"
      ],
      "text/plain": [
       "                id country\n",
       "0       ab6t9i0zbh     NDF\n",
       "1       ab6t9i0zbh      US\n",
       "2       ab6t9i0zbh      CA\n",
       "3       ab6t9i0zbh      GB\n",
       "4       ab6t9i0zbh      FR\n",
       "...            ...     ...\n",
       "308335  6iclyho8bp      US\n",
       "308336  6iclyho8bp     NDF\n",
       "308337  6iclyho8bp      DE\n",
       "308338  6iclyho8bp      CA\n",
       "308339  6iclyho8bp      FR\n",
       "\n",
       "[308340 rows x 2 columns]"
      ]
     },
     "execution_count": 64,
     "metadata": {},
     "output_type": "execute_result"
    }
   ],
   "source": [
    "sub = pd.DataFrame(np.column_stack((ids, cts)), columns=['id', 'country'])\n",
    "sub"
   ]
  },
  {
   "cell_type": "code",
   "execution_count": 65,
   "metadata": {},
   "outputs": [],
   "source": [
    "sub.to_csv('sub.csv',index=False)"
   ]
  },
  {
   "cell_type": "markdown",
   "metadata": {},
   "source": [
    "#### Submission to Kaggle then get the total score \n",
    "### 0.82872"
   ]
  },
  {
   "cell_type": "code",
   "execution_count": 66,
   "metadata": {},
   "outputs": [
    {
     "data": {
      "image/jpeg": "[encoded data removed]",
      "text/plain": [
       "<IPython.core.display.Image object>"
      ]
     },
     "execution_count": 66,
     "metadata": {},
     "output_type": "execute_result"
    }
   ],
   "source": [
    "#put a screenshot of the output here\n",
    "from IPython.display import Image\n",
    "Image(filename=\"/home/bitnami/Project/Airbnb/Submission.JPG\")"
   ]
  },
  {
   "cell_type": "code",
   "execution_count": 67,
   "metadata": {},
   "outputs": [
    {
     "data": {
      "image/jpeg": "[encoded data removed]",
      "text/plain": [
       "<IPython.core.display.Image object>"
      ]
     },
     "execution_count": 67,
     "metadata": {},
     "output_type": "execute_result"
    }
   ],
   "source": [
    "Image(filename=\"/home/bitnami/Project/Airbnb/Submission2.JPG\")"
   ]
  },
  {
   "cell_type": "code",
   "execution_count": null,
   "metadata": {},
   "outputs": [],
   "source": []
  }
 ],
 "metadata": {
  "kernelspec": {
   "display_name": "Python 3",
   "language": "python",
   "name": "python3"
  },
  "language_info": {
   "codemirror_mode": {
    "name": "ipython",
    "version": 3
   },
   "file_extension": ".py",
   "mimetype": "text/x-python",
   "name": "python",
   "nbconvert_exporter": "python",
   "pygments_lexer": "ipython3",
   "version": "3.5.3"
  }
 },
 "nbformat": 4,
 "nbformat_minor": 4
}
